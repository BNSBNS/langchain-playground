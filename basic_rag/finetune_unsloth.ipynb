{
 "cells": [
  {
   "cell_type": "code",
   "execution_count": null,
   "metadata": {},
   "outputs": [],
   "source": []
  },
  {
   "cell_type": "code",
   "execution_count": 2,
   "metadata": {},
   "outputs": [],
   "source": [
    "from unsloth import FastLanguageModel \n",
    "import torch"
   ]
  },
  {
   "cell_type": "code",
   "execution_count": 3,
   "metadata": {},
   "outputs": [],
   "source": [
    "max_seq_length = 2048\n",
    "dtype = None\n",
    "load_in_4bit = True\n",
    "\n"
   ]
  },
  {
   "cell_type": "code",
   "execution_count": 4,
   "metadata": {},
   "outputs": [
    {
     "name": "stderr",
     "output_type": "stream",
     "text": [
      "c:\\Users\\y3kma\\anaconda3\\envs\\llm_v2\\lib\\site-packages\\huggingface_hub\\file_download.py:140: UserWarning: `huggingface_hub` cache-system uses symlinks by default to efficiently store duplicated files but your machine does not support them in C:\\Users\\y3kma\\.cache\\huggingface\\hub\\models--unsloth--llama-3.2-1b-bnb-4bit. Caching files will still work but in a degraded version that might require more space on your disk. This warning can be disabled by setting the `HF_HUB_DISABLE_SYMLINKS_WARNING` environment variable. For more details, see https://huggingface.co/docs/huggingface_hub/how-to-cache#limitations.\n",
      "To support symlinks on Windows, you either need to activate Developer Mode or to run Python as an administrator. In order to activate developer mode, see this article: https://docs.microsoft.com/en-us/windows/apps/get-started/enable-your-device-for-development\n",
      "  warnings.warn(message)\n"
     ]
    },
    {
     "name": "stdout",
     "output_type": "stream",
     "text": [
      "==((====))==  Unsloth 2025.1.7: Fast Llama patching. Transformers: 4.48.1.\n",
      "   \\\\   /|    GPU: NVIDIA GeForce MX550. Max memory: 2.0 GB. Platform: Windows.\n",
      "O^O/ \\_/ \\    Torch: 2.5.1+cu124. CUDA: 7.5. CUDA Toolkit: 12.4. Triton: 3.1.0\n",
      "\\        /    Bfloat16 = FALSE. FA [Xformers = None. FA2 = False]\n",
      " \"-____-\"     Free Apache license: http://github.com/unslothai/unsloth\n",
      "Unsloth: Fast downloading is enabled - ignore downloading bars which are red colored!\n"
     ]
    },
    {
     "name": "stderr",
     "output_type": "stream",
     "text": [
      "c:\\Users\\y3kma\\anaconda3\\envs\\llm_v2\\lib\\site-packages\\huggingface_hub\\file_download.py:140: UserWarning: `huggingface_hub` cache-system uses symlinks by default to efficiently store duplicated files but your machine does not support them in C:\\Users\\y3kma\\.cache\\huggingface\\hub\\models--unslothai--other. Caching files will still work but in a degraded version that might require more space on your disk. This warning can be disabled by setting the `HF_HUB_DISABLE_SYMLINKS_WARNING` environment variable. For more details, see https://huggingface.co/docs/huggingface_hub/how-to-cache#limitations.\n",
      "To support symlinks on Windows, you either need to activate Developer Mode or to run Python as an administrator. In order to activate developer mode, see this article: https://docs.microsoft.com/en-us/windows/apps/get-started/enable-your-device-for-development\n",
      "  warnings.warn(message)\n",
      "c:\\Users\\y3kma\\anaconda3\\envs\\llm_v2\\lib\\site-packages\\huggingface_hub\\file_download.py:140: UserWarning: `huggingface_hub` cache-system uses symlinks by default to efficiently store duplicated files but your machine does not support them in C:\\Users\\y3kma\\.cache\\huggingface\\hub\\models--unslothai--repeat. Caching files will still work but in a degraded version that might require more space on your disk. This warning can be disabled by setting the `HF_HUB_DISABLE_SYMLINKS_WARNING` environment variable. For more details, see https://huggingface.co/docs/huggingface_hub/how-to-cache#limitations.\n",
      "To support symlinks on Windows, you either need to activate Developer Mode or to run Python as an administrator. In order to activate developer mode, see this article: https://docs.microsoft.com/en-us/windows/apps/get-started/enable-your-device-for-development\n",
      "  warnings.warn(message)\n",
      "c:\\Users\\y3kma\\anaconda3\\envs\\llm_v2\\lib\\site-packages\\huggingface_hub\\file_download.py:140: UserWarning: `huggingface_hub` cache-system uses symlinks by default to efficiently store duplicated files but your machine does not support them in C:\\Users\\y3kma\\.cache\\huggingface\\hub\\models--unslothai--vram-8. Caching files will still work but in a degraded version that might require more space on your disk. This warning can be disabled by setting the `HF_HUB_DISABLE_SYMLINKS_WARNING` environment variable. For more details, see https://huggingface.co/docs/huggingface_hub/how-to-cache#limitations.\n",
      "To support symlinks on Windows, you either need to activate Developer Mode or to run Python as an administrator. In order to activate developer mode, see this article: https://docs.microsoft.com/en-us/windows/apps/get-started/enable-your-device-for-development\n",
      "  warnings.warn(message)\n",
      "c:\\Users\\y3kma\\anaconda3\\envs\\llm_v2\\lib\\site-packages\\huggingface_hub\\file_download.py:140: UserWarning: `huggingface_hub` cache-system uses symlinks by default to efficiently store duplicated files but your machine does not support them in C:\\Users\\y3kma\\.cache\\huggingface\\hub\\models--unslothai--1. Caching files will still work but in a degraded version that might require more space on your disk. This warning can be disabled by setting the `HF_HUB_DISABLE_SYMLINKS_WARNING` environment variable. For more details, see https://huggingface.co/docs/huggingface_hub/how-to-cache#limitations.\n",
      "To support symlinks on Windows, you either need to activate Developer Mode or to run Python as an administrator. In order to activate developer mode, see this article: https://docs.microsoft.com/en-us/windows/apps/get-started/enable-your-device-for-development\n",
      "  warnings.warn(message)\n",
      "c:\\Users\\y3kma\\anaconda3\\envs\\llm_v2\\lib\\site-packages\\transformers\\quantizers\\auto.py:195: UserWarning: You passed `quantization_config` or equivalent parameters to `from_pretrained` but the model you're loading already has a `quantization_config` attribute. The `quantization_config` from the model will be used.\n",
      "  warnings.warn(warning_msg)\n",
      "c:\\Users\\y3kma\\anaconda3\\envs\\llm_v2\\lib\\site-packages\\unsloth\\models\\llama.py:1189: UserWarning: expandable_segments not supported on this platform (Triggered internally at C:\\actions-runner\\_work\\pytorch\\pytorch\\builder\\windows\\pytorch\\c10/cuda/CUDAAllocatorConfig.h:28.)\n",
      "  self.register_buffer(\"cos_cached\", emb.cos().to(dtype=dtype, device=device, non_blocking=True), persistent=False)\n"
     ]
    }
   ],
   "source": [
    "model, tokenizer = FastLanguageModel.from_pretrained(\"unsloth/Llama-3.2-1B\", max_seq_length=max_seq_length, dtype=dtype, load_in_4bit=load_in_4bit)"
   ]
  },
  {
   "cell_type": "code",
   "execution_count": null,
   "metadata": {},
   "outputs": [],
   "source": []
  },
  {
   "cell_type": "code",
   "execution_count": 6,
   "metadata": {},
   "outputs": [
    {
     "name": "stderr",
     "output_type": "stream",
     "text": [
      "Unsloth 2025.1.7 patched 16 layers with 16 QKV layers, 16 O layers and 16 MLP layers.\n"
     ]
    }
   ],
   "source": [
    "model = FastLanguageModel.get_peft_model(\n",
    "    model,\n",
    "    r=16 ,\n",
    "    target_modules= [\"q_proj\", \"k_proj\", \"v_proj\", \"o_proj\",\"gate_proj\",\"up_proj\",\"down_proj\"],\n",
    "    lora_alpha=16,\n",
    "    lora_dropout=0,\n",
    "    bias=\"none\",\n",
    "    use_gradient_checkpointing=\"unsloth\",\n",
    "    random_state=3407,\n",
    "    use_rslora=False,\n",
    "    loftq_config=None,\n",
    ")"
   ]
  },
  {
   "cell_type": "code",
   "execution_count": null,
   "metadata": {},
   "outputs": [],
   "source": []
  },
  {
   "cell_type": "code",
   "execution_count": 7,
   "metadata": {},
   "outputs": [
    {
     "name": "stderr",
     "output_type": "stream",
     "text": [
      "c:\\Users\\y3kma\\anaconda3\\envs\\llm_v2\\lib\\site-packages\\huggingface_hub\\file_download.py:140: UserWarning: `huggingface_hub` cache-system uses symlinks by default to efficiently store duplicated files but your machine does not support them in C:\\Users\\y3kma\\.cache\\huggingface\\hub\\datasets--vicgalle--alpaca-gpt4. Caching files will still work but in a degraded version that might require more space on your disk. This warning can be disabled by setting the `HF_HUB_DISABLE_SYMLINKS_WARNING` environment variable. For more details, see https://huggingface.co/docs/huggingface_hub/how-to-cache#limitations.\n",
      "To support symlinks on Windows, you either need to activate Developer Mode or to run Python as an administrator. In order to activate developer mode, see this article: https://docs.microsoft.com/en-us/windows/apps/get-started/enable-your-device-for-development\n",
      "  warnings.warn(message)\n",
      "Generating train split: 100%|██████████| 52002/52002 [00:00<00:00, 533125.24 examples/s]"
     ]
    },
    {
     "name": "stdout",
     "output_type": "stream",
     "text": [
      "['instruction', 'input', 'output', 'text']\n"
     ]
    },
    {
     "name": "stderr",
     "output_type": "stream",
     "text": [
      "\n"
     ]
    }
   ],
   "source": [
    "from datasets import load_dataset\n",
    "\n",
    "dataset = load_dataset(\"vicgalle/alpaca-gpt4\",split=\"train\")\n",
    "print(dataset.column_names)"
   ]
  },
  {
   "cell_type": "code",
   "execution_count": 14,
   "metadata": {},
   "outputs": [
    {
     "data": {
      "text/plain": [
       "Dataset({\n",
       "    features: ['instruction', 'input', 'output', 'text'],\n",
       "    num_rows: 52002\n",
       "})"
      ]
     },
     "execution_count": 14,
     "metadata": {},
     "output_type": "execute_result"
    }
   ],
   "source": [
    "dataset"
   ]
  },
  {
   "cell_type": "code",
   "execution_count": null,
   "metadata": {},
   "outputs": [],
   "source": []
  },
  {
   "cell_type": "code",
   "execution_count": 15,
   "metadata": {},
   "outputs": [
    {
     "name": "stderr",
     "output_type": "stream",
     "text": [
      "Merging columns: 100%|██████████| 52002/52002 [00:00<00:00, 234289.41 examples/s]\n",
      "Converting to ShareGPT: 100%|██████████| 52002/52002 [00:00<00:00, 175483.56 examples/s]\n",
      "Flattening the indices: 100%|██████████| 52002/52002 [00:00<00:00, 1295895.65 examples/s]\n",
      "Flattening the indices: 100%|██████████| 52002/52002 [00:04<00:00, 11485.57 examples/s]\n",
      "Flattening the indices: 100%|██████████| 52002/52002 [00:04<00:00, 11366.25 examples/s]\n",
      "Extending conversations: 100%|██████████| 52002/52002 [00:02<00:00, 20542.12 examples/s]\n"
     ]
    }
   ],
   "source": [
    "from unsloth import to_sharegpt\n",
    "dataset = to_sharegpt(dataset,merged_prompt=\"{instruction}[[\\nYour input is:\\n{input}]]\",\n",
    "                      output_column_name=\"output\",conversation_extension=3)\n"
   ]
  },
  {
   "attachments": {
    "image.png": {
     "image/png": "[encoded data removed]"
    }
   },
   "cell_type": "markdown",
   "metadata": {},
   "source": [
    "![image.png](attachment:image.png)"
   ]
  },
  {
   "cell_type": "code",
   "execution_count": null,
   "metadata": {},
   "outputs": [],
   "source": []
  },
  {
   "cell_type": "code",
   "execution_count": 16,
   "metadata": {},
   "outputs": [
    {
     "name": "stderr",
     "output_type": "stream",
     "text": [
      "Standardizing format: 100%|██████████| 52002/52002 [00:01<00:00, 29606.78 examples/s]\n"
     ]
    },
    {
     "data": {
      "text/plain": [
       "Dataset({\n",
       "    features: ['conversations'],\n",
       "    num_rows: 52002\n",
       "})"
      ]
     },
     "execution_count": 16,
     "metadata": {},
     "output_type": "execute_result"
    }
   ],
   "source": [
    "from unsloth import standardize_sharegpt\n",
    "dataset = standardize_sharegpt(dataset)\n"
   ]
  },
  {
   "cell_type": "code",
   "execution_count": 17,
   "metadata": {},
   "outputs": [
    {
     "data": {
      "text/plain": [
       "MemoryMappedTable\n",
       "conversations: list<item: struct<content: string, role: string>>\n",
       "  child 0, item: struct<content: string, role: string>\n",
       "      child 0, content: string\n",
       "      child 1, role: string\n",
       "----\n",
       "conversations: [[    -- is_valid: all not null\n",
       "    -- child 0 type: string\n",
       "[\"Give three tips for staying healthy.\",\"1. Eat a balanced and nutritious diet: Make sure your meals are inclusive of a variety of fruits and vegetables, lean protein, whole grains, and healthy fats. This helps to provide your body with the essential nutrients to function at its best and can help prevent chronic diseases.\n",
       "\n",
       "2. Engage in regular physical activity: Exercise is crucial for maintaining strong bones, muscles, and cardiovascular health. Aim for at least 150 minutes of moderate aerobic exercise or 75 minutes of vigorous exercise each week.\n",
       "\n",
       "3. Get enough sleep: Getting enough quality sleep is crucial for physical and mental well-being. It helps to regulate mood, improve cognitive function, and supports healthy growth and immune function. Aim for 7-9 hours of sleep each night.\",\"Describe what a monotheistic religion is.\",\"A monotheistic religion is a type of religion that believes in the existence of only one supreme and all-powerful deity, who is considered the creator and ruler of the universe. This deity is worshiped as the ultimate and only divine being, and followers of such religions often see their deity as omniscient, omnipotent, and omnibenevolent. Some of the most widely practiced monotheistic religions in the world today include Christianity, Islam, and Judaism, among others. The concept of monotheism differs from polytheism, which believes in the existence of multiple gods, and from atheism, which denies the existence of any deity.\",\"How does one add a chart to a document?\",\"To add a chart to a document, follow these steps:\n",
       "\n",
       "1. Open the document where you want to insert the chart.\n",
       "2. Click the location where you want to insert the chart.\n",
       "3. In most word processors, you can go to the **Insert** tab, where you can find a **Chart** option. Click on it.\n",
       "4. A new window will appear, and you'll be able to select the chart type that you want to use (column, pie, line, bar, area, scatter, etc.).\n",
       "5. Once you've selected your chart type, you’ll be prompted to enter your data into a spreadsheet. You can either type your data in manually or copy it from an existing data source.\n",
       "6. Edit your chart data and customize its appearance to fit your document's style or branding.\n",
       "7. When you’re happy with how the chart looks, click \"OK\" or \"Insert\" to add the chart to your document.\n",
       "8. Optionally, you can add a chart title or labels to the axes to make the chart easier to understand.\n",
       "\n",
       "These instructions may vary depending on the type of word processor you are using.\"]\n",
       "    -- child 1 type: string\n",
       "[\"user\",\"assistant\",\"user\",\"assistant\",\"user\",\"assistant\"],    -- is_valid: all not null\n",
       "    -- child 0 type: string\n",
       "[\"What are the three primary colors?\",\"The three primary colors are red, blue, and yellow. These colors are called primary because they cannot be created by mixing other colors and all other colors can be made by combining them in various proportions. In the additive color system, used for light, the primary colors are red, green, and blue (RGB).\",\"Identify 3 different features of the given product.\n",
       "Your input is:\n",
       "Apple Watch Series 6\",\"Three features of the Apple Watch Series 6 are:\n",
       "\n",
       "1. Blood Oxygen Monitoring: The Apple Watch Series 6 includes a Blood Oxygen sensor that measures the oxygen saturation (SpO2) of the wearer’s blood. It uses infrared and red LEDs to take measurements, alongside photodiodes that measure the light reflected from the blood in the user's veins.\n",
       "\n",
       "2. Always-On Retina Display: The Always-On Retina display ensures that the watch face is always visible, even when the user’s wrist is down. This makes it easier to check the time, notifications, and other important information without having to raise your wrist or tap on the screen.\n",
       "\n",
       "3. Fitness Tracking: The Apple Watch Series 6 has a range of features designed to help users track their fitness and stay active. These include tracking workouts, monitoring daily activity levels, and setting reminders to stand or move around periodically. The watch also includes a heart rate monitor to track cardio fitness levels during exercise.\",\"Given a description of a character, come up with possible motivations for the character's behaviour.\n",
       "Your input is:\n",
       "The character is a young man who is often confrontational and rebellious.\",\"1. The young man may have grown up in a challenging home environment where he had to fight to be heard, leading him to develop confrontational behaviors.\n",
       "\n",
       "2. He may be struggling with feelings of insecurity or low self-worth, leading him to act out in rebellious ways to gain attention or assert his individuality.\n",
       "\n",
       "3. The young man may have experienced a traumatic event or loss, causing him to feel anger and resentment towards the world, leading him to behave confrontationally.\n",
       "\n",
       "4. He may feel misunderstood or stifled by societal expectations, leading him to rebel against norms and conventions as a means of expressing his frustration.\n",
       "\n",
       "5. The young man may be searching for a sense of identity or purpose, causing him to engage in confrontational behavior as a way of defining and asserting himself.\n",
       "\n",
       "6. He may be influenced by a group of peers who engage in rebellious behavior, causing him to adopt similar behaviors in order to fit in with the group.\"]\n",
       "    -- child 1 type: string\n",
       "[\"user\",\"assistant\",\"user\",\"assistant\",\"user\",\"assistant\"],...,    -- is_valid: all not null\n",
       "    -- child 0 type: string\n",
       "[\"Find the definition of the following financial term\n",
       "Your input is:\n",
       "Stock Split\",\"A stock split is a corporate action in which a company increases the number of its outstanding shares by issuing more shares to its existing shareholders. A stock split causes a reduction in the price per share, making the stock more accessible to smaller investors. The total value of the shares an investor holds remains the same, as the proportionate ownership in the company doesn't change. A company may decide to perform a stock split for numerous reasons, including to make the stock look more attractive to investors or to increase the liquidity of the shares in the market. Common stock split ratios include 2-for-1 or 3-for-1, which means that the shareholder will receive two or three shares for every share they currently own.\",\"Guide a user to find the version of an application\n",
       "Your input is:\n",
       "Microsoft Office\",\"To find the version of your Microsoft Office, please follow these steps:\n",
       "\n",
       "1. Open any Office application, such as Word or Excel.\n",
       "\n",
       "2. Click on the \"File\" tab in the top left corner of the window.\n",
       "\n",
       "3. Scroll down the menu and click on the \"Account\" or \"Help\" option.\n",
       "\n",
       "4. Under \"Product Information\", you will see a section labeled \"About\" - click on that\n",
       "\n",
       "5. A new window will pop up with details about the application. The version number will be listed near the top of the window, under the product name.\n",
       "\n",
       "If you are still having trouble finding the version number or if these instructions do not seem to apply to your version of Office, please let me know and I will be happy to help further.\",\"What programming language should I use to develop an AI chatbot?\",\"There are several programming languages you can use to develop an AI chatbot, depending on your preferences and the specific requirements for your chatbot. Some of the most popular and widely used languages for chatbot development are:\n",
       "\n",
       "1. Python: Python is one of the most popular languages for AI and chatbot development due to its simplicity, flexibility, and extensive libraries for natural language processing and machine learning.\n",
       "\n",
       "2. JavaScript: JavaScript is a versatile, fast, and widely-used language that is well suited for developing web-based chatbots.\n",
       "\n",
       "3. PHP: PHP is a server-side scripting language that is commonly used for developing web applications, including chatbots. \n",
       "\n",
       "4. Ruby: Ruby is an easy-to-learn, expressive, and high-level programming language that is popular for building chatbots, especially with the help of the Ruby on Rails framework.\n",
       "\n",
       "Ultimately, the choice of programming language depends on your personal preferences, the requirements of your chatbot, and your familiarity with a particular language.\"]\n",
       "    -- child 1 type: string\n",
       "[\"user\",\"assistant\",\"user\",\"assistant\",\"user\",\"assistant\"],    -- is_valid: all not null\n",
       "    -- child 0 type: string\n",
       "[\"Describe the flavor profile of the following type of cuisine\n",
       "Your input is:\n",
       "Japanese\",\"Japanese cuisine has a flavorful yet subtle taste profile that balances savory, sweet, bitter, and sour tastes. At the core of many traditional dishes is \"umami,\" the savory, broth-like flavor often linked to ingredients like soy sauce, miso paste, and bonito flakes. Featured flavors commonly include mirin (a sweet rice wine), rice vinegar, ginger, sake, and wasabi, along with various picks such as daikon, umeboshi (pickled ume fruit), and tsukemono (pickled veggies). Seafood and seaweed also play a significant role in the cuisine's delicate taste. Japanese dishes often aim for balance and simplicity, and celebrate the natural flavors of the ingredients themselves.\",\"Find out what the weather is like in Paris\n",
       "Your input is:\n",
       "`<noinput>`\",\"The weather in Paris varies throughout the year and can only be accurately determined in real-time or for a short-term forecast. To find out the current weather in Paris, you can check a weather website or app, such as AccuWeather, Weather.com, or the Weather Channel, and enter \"Paris, France\" as the location. These sources can provide you with the current temperature, humidity, precipitation, wind speed, and overall conditions for Paris.\",\"What is the primary purpose of literature review?\",\"The primary aim of a literature review is to provide a comprehensive and critical analysis of the published works relevant to a particular research topic. It serves several purposes in scholarly research, including:\n",
       "- Providing a thorough overview of the research that has already been conducted in a specific field or on a specific topic\n",
       "- Identifying areas of consensus and controversy in the existing literature\n",
       "- Identifying gaps in the current knowledge and potential areas for future research\n",
       "- Positioning the new research within the context of the existing literature\n",
       "- Demonstrating the researcher's understanding and knowledge of the field.\n",
       "By reviewing the existing literature, a researcher can develop a stronger and more informed research question and methodology, and provide a solid foundation for their own research.\"]\n",
       "    -- child 1 type: string\n",
       "[\"user\",\"assistant\",\"user\",\"assistant\",\"user\",\"assistant\"]],[    -- is_valid: all not null\n",
       "    -- child 0 type: string\n",
       "[\"List 3 historical events related to the following country\n",
       "Your input is:\n",
       "Canada\",\"1. Confederation and Expansion (1867): In 1867, Canada became a nation through the passing of British North America Act which saw the Confederation of Upper Canada, Lower Canada, Nova Scotia, and New Brunswick into the Dominion of Canada.\n",
       "\n",
       "2. World War II (1939-1945): Canada played a crucial role in World War II, joining the war in 1939 in support of its ally, Great Britain. By the end of the war, around 1.1 million Canadians had served in the armed forces, and had made significant contributions in battles such as the Battle of the Atlantic, the invasion of Italy, and the D-Day invasion of Normandy.\n",
       "\n",
       "3. The Official Languages Act (1969): In 1969, Canada passed the Official Languages Act, which recognized English and French as the country's two official languages. This act aimed to ensure that all Canadians could receive federal government services in the language of their choice and laid the foundation for Canada's bilingualism policy.\",\"Come up with two new ideas for improving the customer experience of a business.\",\"1. Implementing a personalized and interactive chatbot: One way to improve the customer experience of a business could be to implement a personalized and interactive chatbot on its website or social media pages. The chatbot could use natural language processing and machine learning algorithms to understand the customer's questions and provide accurate responses. This would allow customers to get quick and efficient answers to their questions and concerns, thereby enhancing their overall experience with the business.\n",
       "\n",
       "2. Introducing a loyalty program: Another way to enhance the customer experience could be to introduce a loyalty program. Customers could earn points or rewards for every purchase they make or for referring new customers to the business. These points could then be redeemed for discounts or other perks. A loyalty program can make customers feel appreciated and valued by the business, thereby increasing their likelihood of becoming repeat customers and advocating for the brand.\",\"Name three benefits of playing board games.\",\"1. Social Interaction: Board games bring people together and facilitate socialization, communication, and bonding among friends and family members. \n",
       "\n",
       "2. Cognitive Benefits: Playing board games can increase critical thinking, problem solving, and strategic planning skills. It can also improve memory retention and enhance mental agility. \n",
       "\n",
       "3. Stress Reduction: Board games can be a great stress reliever. They provide a fun and engaging way to unwind, relax, and escape from the daily hustle and bustle. Playing board games can also help reduce anxiety and promote overall mental wellness.\"]\n",
       "    -- child 1 type: string\n",
       "[\"user\",\"assistant\",\"user\",\"assistant\",\"user\",\"assistant\"],    -- is_valid: all not null\n",
       "    -- child 0 type: string\n",
       "[\"Compare and contrast the effects of individual and societal performance\",\"Individual performance refers to how well a single person performs in their tasks and responsibilities. This can be influenced by their skills, knowledge, and motivation, among other factors. Societal performance, on the other hand, refers to how well a society or community performs as a whole. This can be measured through various indicators such as economic growth, employment rate, literacy rate, and the overall quality of life of the citizens.\n",
       "\n",
       "Individual and societal performance are closely linked, as the former can have a direct impact on the latter. For instance, if individuals in a society perform well in their respective roles, the society’s overall performance is likely to improve. By excelling in their professions, individuals can contribute to the growth and development of their communities. \n",
       "\n",
       "For example, when employees work efficiently and effectively, businesses thrive, which in turn boosts the economy. Similarly, when students perform well in school, they acquire vital knowledge and skills that will help them contribute positively to society in the future.\n",
       "\n",
       "On the other hand, poor individual performance can have negative consequences for society. If a large number of individuals underperform, this can lead to lower productivity, decreased economic growth, and a lower standard of living. For instance, if a significant number of students fail to perform well academically, this could lead to a less educated workforce, which can hamper a country’s progress.\n",
       "\n",
       "In conclusion, individual and societal performance are interconnected, with the former having a direct impact on the latter. By performing well in their respective roles, individuals can contribute to the growth and development of society, while poor individual performance can have negative consequences for the greater good.\",\"Generate a new sentence that follows the same structure of the sentence below.\n",
       "Your input is:\n",
       "The clouds were moving swiftly across the sky.\",\"The cars were driving quickly down the highway.\",\"Reword the given sentence so that it conveys the same meaning but has a different grammatical structure.\n",
       "Your input is:\n",
       "He hit the ball out of the stadium.\",\"Out of the stadium, the ball was hit by him.\"]\n",
       "    -- child 1 type: string\n",
       "[\"user\",\"assistant\",\"user\",\"assistant\",\"user\",\"assistant\"],...,    -- is_valid: all not null\n",
       "    -- child 0 type: string\n",
       "[\"Explain the process of natural selection.\",\"Natural selection is a process by which certain heritable traits that enhance survival and/or reproduction become more common in a population over time. This happens because individuals with such traits tend to leave behind more offspring than those without them, and their advantageous traits are then passed on to the next generation. Over time, these traits become more widespread, leading to evolutionary change.\n",
       "\n",
       "Here is how the process works, step by step:\n",
       "\n",
       "1. Variation: In any population, there is variation in traits among individuals. This variation arises from random mutations and genetic recombination during reproduction.\n",
       "\n",
       "2. Selection: Some of the variations among individuals give an advantage in terms of survival and reproduction. For example, an animal that can run faster may be better at avoiding predators, while a plant with deeper roots may be better at accessing water.\n",
       "\n",
       "3. Differential Reproduction: Individuals with advantageous traits are more likely to survive and reproduce, passing on these traits to their offspring. Conversely, individuals with less beneficial traits are less likely to survive and reproduce, meaning that their traits are less likely to be passed on to the next generation.\n",
       "\n",
       "4. Changes in population composition: Over time, the number of individuals with advantageous traits will increase in the population, while the number of individuals with disadvantageous traits will decrease. Ultimately, this can lead to changes in the population’s general makeup, as certain traits become more common while others become less so.\n",
       "\n",
       "It is important to note that natural selection is not a deliberate or conscious process, but rather a natural outcome of the interactions between individuals and their environments. Additionally, it is an ongoing process that occurs over many generations, leading to the gradual evolution of species.\",\"Generate a scenario where the following figure of speech can be used.\n",
       "Your input is:\n",
       "\"By the skin of my teeth\"\",\"One day, Maria received an unexpected phone call from her boss. She was informed there would be a crucial meeting the next day, and that it was essential for her to make a presentation on the company's latest project that could secure a major deal. Stricken with panic, Maria realized she had nothing prepared. She barely slept that night and worked tirelessly into the early hours of the morning. At the meeting, as she stood before a room full of executives, sweat dripped down her forehead. Though she fumbled with her words a few times, she managed to convey the essentials of the project. Once she finished, there was a round of applause. Her boss approached her with a smile, \"Maria, you did it! You pulled it off by the skin of your teeth.\" Maria knew it was a close call and breathed a sigh of relief.\",\"Identify which of the sentences use passive voice.\n",
       "Your input is:\n",
       "(1) She wrote the letter in haste. (2) In haste, the letter was written by her.\",\"Sentence (2) uses passive voice: \"In haste, the letter was written by her.\"\"]\n",
       "    -- child 1 type: string\n",
       "[\"user\",\"assistant\",\"user\",\"assistant\",\"user\",\"assistant\"],    -- is_valid: all not null\n",
       "    -- child 0 type: string\n",
       "[\"Identify a way to reduce greenhouse gas emissions.\",\"One way to reduce greenhouse gas emissions is to increase the use of renewable energy sources, such as wind, solar or hydro power, to generate electricity. This can be accomplished through personal, organizational, and governmental actions. For example, individuals can install solar panels on their homes to generate their own electricity using clean energy. Companies can invest in renewable energy sources for their operations and governments can create policies and incentives to encourage the use of clean energy. By shifting away from using fossil fuels as our primary energy source, we can significantly reduce greenhouse gas emissions and mitigate the impact of climate change.\",\"Create a sentence using the idiom \"take two steps forward and one step back\".\",\"Trying to build a successful business often feels like taking two steps forward and one step back, as progress is slow and setbacks are common.\",\"Generate a brief written description for a mobile application concept.\n",
       "Your input is:\n",
       "A mobile application that helps users to order food from nearby restaurants.\",\"\"Feast Finder\" is the perfect app for food lovers on-the-go! With just a few taps, users can easily browse menus of nearby restaurants, place an order for their favorite dishes, and have it delivered right to their doorstep. Whether you're craving a quick snack or a full meal, Feast Finder makes it easy to satisfy your hunger anytime, anywhere. Plus, with features like real-time tracking, special promotions, and user reviews, finding and ordering delicious food has never been more convenient. Try it out today and discover a new world of culinary delights at your fingertips.\"]\n",
       "    -- child 1 type: string\n",
       "[\"user\",\"assistant\",\"user\",\"assistant\",\"user\",\"assistant\"]],...,[    -- is_valid: all not null\n",
       "    -- child 0 type: string\n",
       "[\"Provide a logical extension to the given sentence.\n",
       "Your input is:\n",
       "I was so proud of myself\",\"I was so proud of myself that I couldn't help but smile from ear to ear.\",\"Construct an algorithm to print the following output.\n",
       "Your input is:\n",
       "1, 2, 3, 4\",\"Here is an example of an algorithm that can be used to print the given input:\n",
       "\n",
       "1. Begin\n",
       "2. Declare an array arr[] and store the input values [1, 2, 3, 4] in it.\n",
       "3. For i=0 to size of the arr[], perform the following tasks:\n",
       "         - Print the value of arr[i]\n",
       "         - Move to next line to print the next value.\n",
       "4. End the loop.\n",
       "5. End\n",
       "\n",
       "This algorithm reads the input values from an array and prints them one by one in a new line. When the loop is completed, the given input is printed in the required format.\",\"Subdivide the category \"living things\" into 3 distinct groups.\",\"Three distinct groups that can subdivide the category \"living things\" are:\n",
       "\n",
       "1. **Animals** - This group is composed of multicellular, heterotrophic organisms that belong to the kingdom Animalia. They obtain nutrients by consuming other living things, and are capable of motility.\n",
       "\n",
       "2. **Plants** - This group consists of multicellular, autotrophic organisms that belong to the kingdom Plantae. They produce their own food through the process of photosynthesis, utilizing sunlight, water, and carbon dioxide.\n",
       "\n",
       "3. **Microorganisms** - This group is composed of microscopic, unicellular or multicellular living things. This group includes bacteria, archaea, some fungi, protists, and some algae. Microorganisms carry out a wide range of metabolic processes and can inhabit almost every environment on earth.\"]\n",
       "    -- child 1 type: string\n",
       "[\"user\",\"assistant\",\"user\",\"assistant\",\"user\",\"assistant\"],    -- is_valid: all not null\n",
       "    -- child 0 type: string\n",
       "[\"State the main contribution of the paper \"Reinforcement Learning: An Introduction\".\",\"The main contribution of the paper \"Reinforcement Learning: An Introduction\" by Richard S. Sutton and Andrew G. Barto is providing a comprehensive and accessible introduction to the field of reinforcement learning (RL). The book presents the key concepts, algorithms, and techniques of RL, as well as a wide range of applications and examples. It also discusses the problems and challenges that arise when using RL in real-world scenarios, and provides a foundation for understanding and advancing research in the field of RL. Overall, the paper is an important reference for anyone interested in learning about reinforcement learning and its applications.\",\"Write an enthralling description of an elven kingdom.\",\"Deep in the heart of an enchanted forest lies the magical kingdom of the elves. A mystical realm that seems to exist between a dream and reality, shrouded in a veil of eternal mist. The kingdom is nestled within the boughs of giant trees whose roots stretch deep into the earth and whose branches reach towards the sky. \n",
       "\n",
       "The elves themselves are creatures of great beauty and grace, with pointed ears and delicate features. They live in harmony with nature, with a deep respect for all living things. Their homes are carefully woven into the trees themselves, fashioned from wood, leaves, and vines. The treetops are ablaze with twinkling lights and the gentle sound of music can always be heard floating on the breeze.\n",
       "\n",
       "The kingdom is ruled by a wise and fair queen, whose word is law. She is beloved by her subjects, who are fiercely loyal and ready to protect their kingdom from any threat. The society is built on honor, respect, and a deep connection with the land, and the elves are proud of their heritage and traditions.\n",
       "\n",
       "At the heart of the kingdom, a crystal-clear lake sparkles in the sunlight. The water is pure and sweet, and the creatures who live within it are friendly and playful. It is said that, if you are lucky enough to see an elf, you will be blessed with good fortune for the rest of your days.\n",
       "\n",
       "The elven kingdom is a place of wonder and beauty, where dreams come true, and magic is real. It is a sanctuary for all who seek peace, and its inhabitants are the guardians of the natural world. It is an enchanting place, full of secrets and wonders, and it is a privilege to catch even a glimpse of its splendor.\",\"Suggest some activities one can do while hiking.\",\"1. Bird watching: Bring along a pair of binoculars and observe the birds that live in the area you're hiking.\n",
       "\n",
       "2. Photography: Take plenty of pictures of the stunning natural landscapes, wildlife and plants.\n",
       "\n",
       "3. Meditation: Find a nice spot to sit and meditate, allowing yourself to be fully immersed in the beauty of nature.\n",
       "\n",
       "4. Nature journaling: Bring along a notebook and pen to jot down your thoughts, observations, and sketches.\n",
       "\n",
       "5. Geocaching: Use GPS coordinates to search for hidden caches in the area.\n",
       "\n",
       "6. Picnicking: Pack a lunch to enjoy along the trail or at a scenic viewpoint.\n",
       "\n",
       "7. Rock scrambling: Challenge yourself with some light rock climbing on boulders or outcroppings.\n",
       "\n",
       "8. Foraging: Learn about the edible plants in the area and try your hand at foraging for wild berries, nuts or herbs. \n",
       "\n",
       "9. Wildlife watching: Keep your eyes peeled for wildlife such as deer, squirrels, or foxes.\n",
       "\n",
       "10. Trail maintenance: Help maintain the trail by picking up litter, clearing fallen branches or fixing signs along the way.\"]\n",
       "    -- child 1 type: string\n",
       "[\"user\",\"assistant\",\"user\",\"assistant\",\"user\",\"assistant\"],...,    -- is_valid: all not null\n",
       "    -- child 0 type: string\n",
       "[\"Arrange the items given below in the order to complete the following sentence\n",
       "Your input is:\n",
       "cake, me, eating\",\"Me eating cake.\",\"Compile a list of 5 questions that could be used in a job interview for a customer service position.\",\"1. Can you tell us about a time when you handled a difficult situation with a customer and how did you resolve it?\n",
       "\n",
       "2. How would you describe your communication style when dealing with customers, and why do you think it is effective?\n",
       "\n",
       "3. Can you give us an example of how you have gone above and beyond to provide exceptional customer service?\n",
       "\n",
       "4. What methods do you use to actively listen and empathize with customers when addressing their concerns?\n",
       "\n",
       "5. How do you stay organized and manage multiple customer requests or inquiries at the same time?\",\"For the given employee data, work out their total salary from the salary grade and yearly salary information.\n",
       "Your input is:\n",
       "Employee1: Grade: 1, YearlySalary: 80000\n",
       "Employee2: Grade: 5, YearlySalary: 120000\",\"The employee data provided indicates that Employee 1 has a salary grade of 1 and makes $80,000 per year, while Employee 2 is at a salary grade of 5 and earns $120,000 per year. These employees' total salaries are already given as their yearly salaries; Employee 1's total salary is $80,000 and Employee 2's total salary is $120,000.\"]\n",
       "    -- child 1 type: string\n",
       "[\"user\",\"assistant\",\"user\",\"assistant\",\"user\",\"assistant\"],    -- is_valid: all not null\n",
       "    -- child 0 type: string\n",
       "[\"Write an introductory paragraph about a famous person.\n",
       "Your input is:\n",
       "Michelle Obama\",\"Michelle Obama, born January 17, 1964, in Chicago, Illinois, USA, is a lawyer, writer and public figure who served as the First Lady of the United States from 2009 to 2017. Married to the 44th President of the United States, Barack Obama, she is most widely recognized for her advocacy work in education, poverty awareness, nutrition, physical activity, and healthy eating. She is also the author of the best-selling memoir \"Becoming,\" and has remained an influential figure in American politics and culture.\",\"Construct a query in SQL to find the employees who work in the marketing department.\",\"To construct a query in SQL to find the employees who work in the marketing department, you would need to have some information about the structure of the database and the names of the relevant tables and columns.\n",
       "\n",
       "Assuming there are two tables, one called \"employees\" and another called \"departments,\" and the employees table has columns for \"employee_id,\" \"first_name,\" \"last_name,\" and \"department_id,\" and the departments table has \"department_id\" and \"department_name\" columns, a query to find employees working in the marketing department could look like this:\n",
       "\n",
       "```SQL\n",
       "SELECT employees.first_name, employees.last_name\n",
       "FROM employees\n",
       "INNER JOIN departments\n",
       "ON employees.department_id = departments.department_id\n",
       "WHERE departments.department_name = 'Marketing';\n",
       "```\n",
       "\n",
       "This query uses an `INNER JOIN` to combine the two tables based on the matching `department_id` columns in each. The `SELECT` statement specifies that only the `first_name` and `last_name` columns from the `employees` table are to be returned. The `WHERE` statement filters the results to only include rows where the `department_name` value from the `departments` table is 'Marketing'. The resulting data returned by the query would be the first and last names of all employees that work in the marketing department.\",\"List three popular places to visit in the given country.\n",
       "Your input is:\n",
       "Germany\",\"1. Berlin, the capital city of Germany, is a popular destination for its rich history, lively culture, and iconic landmarks such as the Brandenburg Gate and the Berlin Wall.\n",
       "2. Munich, the capital of Bavaria, is known for its stunning architecture, world-renowned museums, and the famous annual Oktoberfest celebration.\n",
       "3. Neuschwanstein Castle, located in the Bavarian Alps, is a fairy-tale-like castle that inspired the design of Disney's Sleeping Beauty Castle and is one of the most visited castles in Germany.\"]\n",
       "    -- child 1 type: string\n",
       "[\"user\",\"assistant\",\"user\",\"assistant\",\"user\",\"assistant\"]],[    -- is_valid: all not null\n",
       "    -- child 0 type: string\n",
       "[\"Generate a list of five things one should keep in mind when considering a career change.\",\"1. Evaluate your reasons: It's important to take a step back and evaluate exactly why you want to make a career change. Your reasons could range from wanting to pursue your passion, to seeking better compensation or job satisfaction, or even needing a change of scene. Being clear on your reasons can help you focus on what you want out of your new career.\n",
       "\n",
       "2. Assess your skills and experience: Take stock of your existing skills, experiences, and qualifications. How can you leverage these in a new field? Identify any skills gaps, and make a plan to acquire new skills or certifications to make your transition smoother.\n",
       "\n",
       "3. Research your options: Do your due diligence on the industries, companies, and specific roles that interest you. Talk to people in your network who work in these areas, read up on market trends and job prospects, and get a better understanding of what the day-to-day work in these roles involves.\n",
       "\n",
       "4. Consider the financial impact: Changing careers can sometimes mean taking a pay cut or investing in additional education. Make sure you're in a financially stable position to make this change, and factor in any short-term and long-term financial implications.\n",
       "\n",
       "5. Be prepared for a challenge: Changing careers is an exciting, but challenging, journey. You might encounter roadblocks, rejections, or self-doubt along the way. Be prepared to face these challenges head-on, stay focused on your goals, and remind yourself of why you embarked on this journey in the first place. With persistence and hard work, you will eventually reap the rewards.\",\"Explain the concept of natural selection by providing an example.\",\"Natural selection is the process through which populations of living organisms evolve and adapt over time in response to changes in their environment. Through this process, certain traits become more common or more rare in a population as organisms with more helpful traits tend to reproduce and pass on those traits to their offspring, while organisms with harmful traits are less likely to reproduce.\n",
       "\n",
       "Here is an example to help illustrate the concept of natural selection:\n",
       "\n",
       "In a certain population of animals, there exists a variety of fur colors, ranging from white to dark brown. Suppose that this population of animals lives in an area that is mostly covered with snow. Animals with white fur have a natural advantage in this environment – they can camouflage themselves against the snow, making them harder for predators to spot. This means that the animals with white fur are more likely to survive, reproduce and pass on their white fur trait to their offspring. On the other hand, animals with darker fur are easier for predators to spot, making them more likely to be hunted and less likely to reproduce. Over time, the population of animals in this environment would likely become more and more dominated by individuals with white fur. This is an example of natural selection in action – the environment favored individuals with white fur, so this trait became more common over time.\",\"Summarize the novel War and Peace in one sentence.\",\"War and Peace is a novel that chronicles the lives of five aristocratic families—the Bezukhovs, Bolkonskys, Drubetskoys, Kuragins, and Rostovs—against the backdrop of the 1812 French invasion of Russia, as they navigate personal struggles, societal expectations, and the horrors of war.\"]\n",
       "    -- child 1 type: string\n",
       "[\"user\",\"assistant\",\"user\",\"assistant\",\"user\",\"assistant\"],    -- is_valid: all not null\n",
       "    -- child 0 type: string\n",
       "[\"Analyze the given legal document and explain the key points.\n",
       "Your input is:\n",
       "The following is an excerpt from a contract between two parties, labeled \"Company A\" and \"Company B\": \n",
       "\n",
       "\"Company A agrees to provide reasonable assistance to Company B in ensuring the accuracy of the financial statements it provides. This includes allowing Company A reasonable access to personnel and other documents which may be necessary for Company B’s review. Company B agrees to maintain the document provided by Company A in confidence, and will not disclose the information to any third parties without Company A’s explicit permission.\"\",\"The contract between Company A and Company B outlines an understanding between the two parties, whereby Company A agrees to provide assistance in ensuring the accuracy of financial statements provided by Company B. This assistance may include providing access to personnel and important documents, as deemed necessary by Company B. In return, Company B agrees to keep the information disclosed by Company A confidential and not share it with any third party without obtaining permission from Company A. This contract aims to promote accuracy and transparency while preserving confidentiality of sensitive information.\",\"Add a sentence at the end of the paragraph to make it complete.\n",
       "Your input is:\n",
       "Pollution can take many forms — water, air, land, noise and plastic. It's the result of human activities such as burning fossil fuels, deforestation and mining. It not only affects the atmosphere, but land and water around us, as well as\",\"It not only affects the atmosphere, but land and water around us, as well as the health and well-being of all living organisms on the planet.\",\"Compare and contrast Data Mining and Machine Learning.\",\"Data mining and machine learning are two areas of computer science that are intertwined with each other. While they share some similarities, they also have some differences.\n",
       "\n",
       "Data mining is the process of extracting useful information from large datasets. It involves the use of various techniques such as clustering, classification, and association rule mining to uncover hidden patterns and relationships in data. The goal of data mining is to make sense of and transform raw data into actionable knowledge.\n",
       "\n",
       "On the other hand, Machine learning is a subset of artificial intelligence that involves the development of algorithms that can learn from data and make predictions or decisions based on that data. The goal of machine learning is to create models that can generalize and make accurate predictions or decisions on new, unseen data.\n",
       "\n",
       "One key difference between the two is that data mining is the process of finding correlations or patterns among numerous fields in large relational databases while machine learning uses these patterns and correlations to learn from data and make accurate predictions.\n",
       "\n",
       "In essence, data mining is more exploratory in nature, focused on finding previously unknown patterns or relationships in data. On the other hand, machine learning is more predictive, focused on using known patterns to make predictions or decisions. Additionally, machine learning models can improve over time, as they are exposed to new data, while data mining techniques do not change.\n",
       "\n",
       "Overall, data mining and machine learning are two important tools for extracting knowledge from data. While they share some similarities, they also have some distinct differences, and both have their unique strengths and use cases.\"]\n",
       "    -- child 1 type: string\n",
       "[\"user\",\"assistant\",\"user\",\"assistant\",\"user\",\"assistant\"]]]"
      ]
     },
     "execution_count": 17,
     "metadata": {},
     "output_type": "execute_result"
    }
   ],
   "source": [
    "dataset.data"
   ]
  },
  {
   "cell_type": "code",
   "execution_count": null,
   "metadata": {},
   "outputs": [],
   "source": []
  },
  {
   "cell_type": "code",
   "execution_count": null,
   "metadata": {},
   "outputs": [],
   "source": [
    "https://docs.unsloth.ai/basics/tutorial-how-to-finetune-llama-3-and-use-in-ollama"
   ]
  },
  {
   "cell_type": "code",
   "execution_count": null,
   "metadata": {},
   "outputs": [],
   "source": []
  },
  {
   "cell_type": "code",
   "execution_count": null,
   "metadata": {},
   "outputs": [],
   "source": []
  },
  {
   "cell_type": "code",
   "execution_count": null,
   "metadata": {},
   "outputs": [],
   "source": []
  },
  {
   "cell_type": "code",
   "execution_count": null,
   "metadata": {},
   "outputs": [],
   "source": []
  },
  {
   "cell_type": "code",
   "execution_count": null,
   "metadata": {},
   "outputs": [],
   "source": [
    "from unsloth import FastLanguageModel, is_bfloat16_supported\n",
    "import torch\n",
    "from unsloth.chat_templates import get_chat_template\n",
    "from datasets import load_dataset\n",
    "from trl import SFTTrainer\n",
    "from transformers import Trainer, TrainingArguments\n",
    "\n",
    "\n",
    "model, tokenizer = FastLanguageModel.from_pretrained(\n",
    "model_name=\"mistralai/Mistral-7B-v0.1\", \n",
    "max_seq_length=2048\n",
    ")\n",
    "\n",
    "model = FastLanguageModel.get_peft_model(model)\n",
    "\n",
    "tokenizer = get_chat_template(\n",
    "tokenizer, \n",
    "mapping = {\"role\" : \"from\", \"content\" : \"value\", \"user\" : \"human\", \"assistant\" : \"gpt\"}\n",
    ")\n",
    "\n",
    "origdataset = load_dataset(\"philschmid/guanaco-sharegpt-style\", split=\"train\")\n",
    "conversations_dataset = origdataset.select_columns(['conversations'])\n",
    "\n",
    "dataset = conversations_dataset.map(\n",
    "lambda x: {\n",
    "\"text\": tokenizer.apply_chat_template(\n",
    "x[\"conversations\"],\n",
    "tokenize=False,\n",
    "add_generation_prompt=False\n",
    ")\n",
    "},\n",
    "batched=True,\n",
    "batch_size=100,\n",
    "desc=\"Formatting conversations\"\n",
    ")\n",
    "\n",
    "trainer = SFTTrainer(\n",
    "model = model,\n",
    "tokenizer = tokenizer,\n",
    "train_dataset = dataset,\n",
    "dataset_text_field = \"text\",\n",
    "dataset_num_proc = 2,\n",
    "max_seq_length = 2048,\n",
    "packing = False, # Can make training 5x faster for short sequences.\n",
    "args = TrainingArguments(\n",
    "per_device_train_batch_size = 2,\n",
    "gradient_accumulation_steps = 4,\n",
    "warmup_steps = 5,\n",
    "max_steps = 60,\n",
    "learning_rate = 2e-4,\n",
    "fp16 = not is_bfloat16_supported(),\n",
    "bf16 = is_bfloat16_supported(),\n",
    "logging_steps = 1,\n",
    "optim = \"adamw_8bit\",\n",
    "weight_decay = 0.01,\n",
    "lr_scheduler_type = \"linear\",\n",
    "seed = 3407,\n",
    "output_dir = \"outputs\",\n",
    "report_to = \"none\", # Use this for WandB etc\n",
    "),\n",
    ")\n",
    "trainer.train()\n",
    "\n",
    "model.save_pretrained_gguf(\"ggufmodel\", tokenizer, quantization_method = \"q4_k_m\")"
   ]
  },
  {
   "cell_type": "code",
   "execution_count": null,
   "metadata": {},
   "outputs": [],
   "source": []
  },
  {
   "cell_type": "code",
   "execution_count": null,
   "metadata": {},
   "outputs": [],
   "source": []
  },
  {
   "cell_type": "code",
   "execution_count": null,
   "metadata": {},
   "outputs": [],
   "source": []
  },
  {
   "cell_type": "code",
   "execution_count": null,
   "metadata": {},
   "outputs": [],
   "source": []
  },
  {
   "cell_type": "code",
   "execution_count": null,
   "metadata": {},
   "outputs": [],
   "source": []
  },
  {
   "cell_type": "code",
   "execution_count": null,
   "metadata": {},
   "outputs": [],
   "source": []
  },
  {
   "cell_type": "code",
   "execution_count": null,
   "metadata": {},
   "outputs": [],
   "source": []
  }
 ],
 "metadata": {
  "kernelspec": {
   "display_name": "llm_v2",
   "language": "python",
   "name": "python3"
  },
  "language_info": {
   "codemirror_mode": {
    "name": "ipython",
    "version": 3
   },
   "file_extension": ".py",
   "mimetype": "text/x-python",
   "name": "python",
   "nbconvert_exporter": "python",
   "pygments_lexer": "ipython3",
   "version": "3.10.16"
  }
 },
 "nbformat": 4,
 "nbformat_minor": 2
}
